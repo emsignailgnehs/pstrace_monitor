{
 "cells": [
  {
   "cell_type": "code",
   "execution_count": 1,
   "metadata": {},
   "outputs": [],
   "source": [
    "from util import myfitpeak,plotFit\n",
    "from util import *\n",
    "import numpy as np"
   ]
  },
  {
   "cell_type": "code",
   "execution_count": null,
   "metadata": {},
   "outputs": [],
   "source": [
    "# Here is how the time course curve normally looks like\n",
    "# plotting is just for show here.\n",
    "import matplotlib.pyplot as plt\n",
    "plt.plot( np.linspace(0,30,len(fits)) ,  [i['pc'] for i in fits], '.')\n",
    "plt.ylabel('PC / uA')\n",
    "plt.ylim(0,25)\n",
    "plt.xlabel('Time / minutes')\n",
    "plt.title('Time course of PC of  channel 3')\n",
    "plt.show()"
   ]
  },
  {
   "cell_type": "code",
   "execution_count": null,
   "metadata": {},
   "outputs": [],
   "source": []
  },
  {
   "cell_type": "code",
   "execution_count": null,
   "metadata": {},
   "outputs": [],
   "source": []
  }
 ],
 "metadata": {
  "interpreter": {
   "hash": "c779370409e419c142ca1c6b84ac84ef108c14dac15cdaf711c2310a33a77b63"
  },
  "kernelspec": {
   "display_name": "Python 3.7.9 64-bit",
   "language": "python",
   "name": "python3"
  },
  "language_info": {
   "codemirror_mode": {
    "name": "ipython",
    "version": 3
   },
   "file_extension": ".py",
   "mimetype": "text/x-python",
   "name": "python",
   "nbconvert_exporter": "python",
   "pygments_lexer": "ipython3",
   "version": "3.7.9"
  },
  "orig_nbformat": 4
 },
 "nbformat": 4,
 "nbformat_minor": 2
}
