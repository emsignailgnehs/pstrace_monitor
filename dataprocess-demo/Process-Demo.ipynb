{
 "cells": [
  {
   "cell_type": "markdown",
   "id": "f9f4856d",
   "metadata": {},
   "source": [
    "### Read sample data\n",
    "\n",
    "The test last for 30 minutes, there are a total of 2 - 4 channels to be measured. Measurement is done every 20 seconds on all channels. Currently we have 2 channel, but in the future we will have 4 channel.\n",
    "\n",
    "At each measuremnt, a total of 120 data point is collected. Measurement on 1 channel normally takes less than 1-2 seconds.\n",
    "\n",
    "This sample data is the data collected on 1 channel during the test. It is a list of 90 measurements. For each measurement, it consits of a start/end potential for this measurement and 120 current data.\n",
    "\n",
    "For example, the first measurement: \n",
    "\n",
    "```\n",
    "[\n",
    "    [\n",
    "      -0.407,\n",
    "      0.193\n",
    "    ],\n",
    "    [\n",
    "      7.952,\n",
    "      9.462,\n",
    "      9.058,\n",
    "      .\n",
    "      .\n",
    "      .\n",
    "    ],\n",
    "    ...\n",
    "```\n",
    "\n",
    "The starting potential is -.407V, ending potential is 0.193V, 120 data point is collected. Current values are 7.952... etc."
   ]
  },
  {
   "cell_type": "code",
   "execution_count": 1,
   "id": "6de96003",
   "metadata": {},
   "outputs": [],
   "source": [
    "# load the data.\n",
    "# you can change './sample.json' to your own JSON data file.\n",
    "# the sample json data is using a non-standard affix because of my gitignore.\n",
    "import json\n",
    "# data = json.load(open('./sample.json.txt'))\n",
    "data = json.load(open('./exportData/negative2.json.txt'))"
   ]
  },
  {
   "cell_type": "markdown",
   "id": "547f4f3f",
   "metadata": {},
   "source": [
    "### Data format"
   ]
  },
  {
   "cell_type": "code",
   "execution_count": 2,
   "id": "c37e526e",
   "metadata": {},
   "outputs": [
    {
     "name": "stdout",
     "output_type": "stream",
     "text": [
      "There are a total of 90 measurements.\n",
      "The start and ending potential of the first measurement is -0.422V and 0.178V.\n",
      "The first measurement result: [12.361, 14.037, 13.367, 12.771, 12.184, 11.739, 11.247, 10.823, 10.404, 9.947, 9.614, 9.268, 8.811, 8.517, 8.223, 8.016, 7.761, 7.545, 7.29, 7.092, 6.932, 6.729, 6.491, 6.435, 6.327, 6.28, 6.193, 6.159, 6.137, 6.116, 6.198, 6.237, 6.28, 6.448, 6.66, 6.975, 7.29, 7.683, 8.102, 8.586, 9.195, 9.813, 10.404, 11.229, 12.076, 13.078, 14.356, 15.358, 16.373, 17.474, 18.74, 19.91, 20.696, 21.668, 22.575, 23.366, 24.553, 24.825, 24.903, 24.938, 24.843, 24.519, 23.841, 23.167, 22.623, 21.932, 21.634, 20.459, 19.362, 18.191, 16.913, 15.367, 13.967, 12.378, 10.884, 9.592, 8.69, 7.532, 6.72, 6.103, 5.558, 5.204, 4.967, 4.725, 4.582, 4.444, 4.561, 4.505, 4.5, 4.539, 4.535, 4.569, 4.66, 4.682, 4.721, 4.738, 4.911, 4.911, 5.019, 5.109, 5.144, 5.204, 5.33, 5.334, 5.403, 5.541, 5.649, 5.727, 5.861, 5.934, 5.99, 6.129, 6.258, 6.245, 6.362, 6.517, 6.638, 6.729, 6.871, 6.988]\n",
      "The first measurement result's length is 120\n"
     ]
    }
   ],
   "source": [
    "# the totoal time points of the data:\n",
    "print(f'There are a total of {len(data)} measurements.')\n",
    "\n",
    "print(f'The start and ending potential of the first measurement is {data[0][0][0]}V and {data[0][0][1]}V.')\n",
    "\n",
    "print(f'The first measurement result: {data[0][1]}')\n",
    "print(f\"The first measurement result's length is {len(data[0][1])}\")"
   ]
  },
  {
   "cell_type": "code",
   "execution_count": 3,
   "id": "6a07cfe9",
   "metadata": {},
   "outputs": [
    {
     "name": "stdout",
     "output_type": "stream",
     "text": [
      "One of the returned repsonse from M355 is:\n",
      "{\"r\":[11.402,12.594,12.179,11.812,11.38,10.901,10.603,10.266,9.908,9.657,9.424,9.087,8.867,8.716,8.461,8.258,8.141,7.951,7.761,7.61,7.498,7.286,7.174,7.07,6.902,6.789,6.733,6.612,6.53,6.517,6.483,6.448,6.457,6.517,6.548,6.668,6.841,7.014,7.234,7.597,7.774,8.258,8.806,9.394,10.003,10.594,11.847,12.547,13.419,14.438,15.229,16.222,17.28,18.135,18.9,19.591,20.463,20.541,20.753,20.791,20.407,20.174,19.889,19.431,19.042,18.628,18.282,17.621,16.999,16.313,15.302,14.507,13.721,12.68,11.817,10.914,10.076,9.173,8.448,7.67,7.049,6.604,6.245,5.9,5.71,5.589,5.602,5.541,5.528,5.524,5.524,5.606,5.71,5.844,6.042,6.129,6.431,6.552,6.772,6.966,7.122,7.416,7.636,7.869,8.171,8.327,8.802,9.087,9.299,9.502,9.623,9.873,10.033,10.232,10.491,10.448,10.892,10.983,11.078,11.039]}*\n"
     ]
    }
   ],
   "source": [
    "### show one of the data and the format to be returned from M355\n",
    "index = -1\n",
    "print('One of the returned repsonse from M355 is:')\n",
    "print(json.dumps({\"r\":data[index][1]},separators=(',',':')) + '*')"
   ]
  },
  {
   "cell_type": "code",
   "execution_count": 4,
   "id": "240e18c6",
   "metadata": {},
   "outputs": [
    {
     "name": "stdout",
     "output_type": "stream",
     "text": [
      "This is how the raw data looks:\n"
     ]
    },
    {
     "data": {
      "image/png": "[encoded data removed]",
      "text/plain": [
       "<Figure size 432x288 with 1 Axes>"
      ]
     },
     "metadata": {
      "needs_background": "light"
     },
     "output_type": "display_data"
    }
   ],
   "source": [
    "### plot the raw data\n",
    "from util import plotFit\n",
    "import numpy as np\n",
    "index = -1\n",
    "potentials = np.linspace(*data[index][0],len(data[index][1]))\n",
    "currents = data[index][1]\n",
    "print('This is how the raw data looks:')\n",
    "plotFit(potentials,currents)"
   ]
  },
  {
   "cell_type": "markdown",
   "id": "82b478cf",
   "metadata": {},
   "source": [
    "### perform data analysis to find the measurement value at each measurement\n",
    "\n",
    "The operation is done in real time, whenever a measurement is finished, the raw data is processed to generate the fitting result. The raw data can be discarded, only store the fitting result.\n",
    "\n"
   ]
  },
  {
   "cell_type": "code",
   "execution_count": 5,
   "id": "ebf8c210",
   "metadata": {},
   "outputs": [],
   "source": [
    "# the peak fitting algorithm is in the util module. \n",
    "# you can look in to details. \n",
    "# certain algorithms from python packages are used. We need to migrate those algorithms as well.\n",
    "\n",
    "from util import myfitpeak,plotFit\n",
    "from util import *\n",
    "import numpy as np\n",
    "\n",
    "fits = []\n",
    "for v,a in data:\n",
    "    fits.append(myfitpeak(np.linspace(*v,len(a)),a))\n"
   ]
  },
  {
   "cell_type": "code",
   "execution_count": null,
   "id": "d3d7e752",
   "metadata": {},
   "outputs": [],
   "source": [
    "print(json.dumps(fits[-1],indent=2))"
   ]
  },
  {
   "cell_type": "markdown",
   "id": "a4b0e19b",
   "metadata": {},
   "source": [
    "### Fitting result\n",
    "- `pc` is the peak high in the figure below.(green verticle line). This is the value we use for downstream calling.\n",
    "- `fx, fy` are the cordinates of the peak base. (left and right intersection point of the orange line)\n",
    "- `pv` is the peak center.\n",
    "- `err` is a estimation of how close the peak is to a normal distribution. "
   ]
  },
  {
   "cell_type": "code",
   "execution_count": 6,
   "id": "f462027f",
   "metadata": {},
   "outputs": [
    {
     "name": "stdout",
     "output_type": "stream",
     "text": [
      "This is demonstrating how the raw measurement and one of fitting result looks like:\n"
     ]
    },
    {
     "data": {
      "image/png": "[encoded data removed]",
      "text/plain": [
       "<Figure size 432x288 with 1 Axes>"
      ]
     },
     "metadata": {
      "needs_background": "light"
     },
     "output_type": "display_data"
    }
   ],
   "source": [
    "# This is demonstrating how the raw measurement and one of fitting result looks like \n",
    "print('This is demonstrating how the raw measurement and one of fitting result looks like:')\n",
    "index = -1\n",
    "potentials = np.linspace(*data[index][0],len(data[index][1]))\n",
    "currents = data[index][1]\n",
    "plotFit(potentials , currents, fits[index] )"
   ]
  },
  {
   "cell_type": "markdown",
   "id": "dd66ae4f",
   "metadata": {},
   "source": [
    "### Perform the result calling from the time course result\n",
    "\n",
    "The `pc` value at each measurement from the previous step is used to predict whether the channel is positive or negative."
   ]
  },
  {
   "cell_type": "code",
   "execution_count": null,
   "id": "c1b10cba",
   "metadata": {},
   "outputs": [],
   "source": [
    "# Here is how the time course curve normally looks like\n",
    "# plotting is just for show here.\n",
    "import matplotlib.pyplot as plt\n",
    "plt.plot( np.linspace(0,30,len(fits)) ,  [i['pc'] for i in fits], '.')\n",
    "plt.ylabel('PC / uA')\n",
    "plt.xlabel('Time / minutes')\n",
    "plt.title('Time course of PC of one channel')\n",
    "plt.show()"
   ]
  },
  {
   "cell_type": "code",
   "execution_count": null,
   "id": "74b37415",
   "metadata": {},
   "outputs": [],
   "source": []
  },
  {
   "cell_type": "code",
   "execution_count": null,
   "id": "349c76d6",
   "metadata": {},
   "outputs": [],
   "source": [
    "from util import hCtTPredictT,convert_list_to_X\n",
    "\n",
    "# t is the time points, the measurement is taken over 30 minutes, and a total of len(fits) measurements.\n",
    "t = np.linspace(0,30,len(fits))\n",
    "# c is all the `pc` in fitting result\n",
    "c = [i['pc'] for i in fits]\n",
    "data = [[t,c]]\n",
    "\n",
    "# the convert_list_to_X is just to transform the data to the shape that works with the scipy pipeline.\n",
    "X = convert_list_to_X(data)\n",
    "\n",
    "# hCtPredictT is the pipeline that transforms and fits the data to give calling result.\n",
    "result = hCtTPredictT.transform(X)\n",
    "\n",
    "call, Ct, prominance, signal_drop = result[0]\n",
    "\n",
    "print(f\"The result is {'Positive' if call else 'Negative'}.\")\n",
    "print(f\"The reaction Ct is {Ct:.2f} minutes.\")\n",
    "print(f\"The prominance is {prominance:.4f}.\")\n",
    "print(f\"The signal drop is {signal_drop:.4f}.\")"
   ]
  },
  {
   "cell_type": "markdown",
   "id": "f0b999c2",
   "metadata": {},
   "source": [
    "### You can look into the `hCtTPredictT` pipeline to see what calculations are done.\n",
    "\n",
    "The calculations utilizes some python packages, these functions need to be migrated."
   ]
  },
  {
   "cell_type": "code",
   "execution_count": null,
   "id": "2f94a728",
   "metadata": {},
   "outputs": [],
   "source": []
  },
  {
   "cell_type": "code",
   "execution_count": null,
   "id": "8f6db30b",
   "metadata": {},
   "outputs": [],
   "source": [
    "\n",
    "smoothT = Pipeline([\n",
    "    ('smooth', Smoother(stddev=2, windowlength=11, window='hanning')),\n",
    "    ('normalize', Normalize(mode='mean', normalizeRange=(normStart, normEnd))),\n",
    "    ('truncate', Truncate(cutoffStart=cutoffStart, cutoffEnd=cutoffEnd, n=90)),\n",
    "    ('remove time', RemoveTime()),\n",
    "])\n",
    "smoothed_X = smoothT.transform(X)\n",
    "\n",
    "deriT = Pipeline([\n",
    "    ('smooth', Smoother(stddev=2, windowlength=11, window='hanning')),\n",
    "    ('normalize', Normalize(mode='mean', normalizeRange=(normStart, normEnd))),\n",
    "    ('truncate', Truncate(cutoffStart=cutoffStart, cutoffEnd=cutoffEnd, n=90)),\n",
    "    ('Derivitive', Derivitive(window=31, deg=3)),\n",
    "    # ('remove time',RemoveTime()),\n",
    "])\n",
    "deri_X = deriT.transform(X)\n",
    "\n",
    "\n",
    "\n",
    "hCtT = Pipeline([\n",
    "    ('smooth', Smoother(stddev=2, windowlength=11, window='hanning')),\n",
    "    ('normalize', Normalize(mode='mean', normalizeRange=(normStart, normEnd))),\n",
    "    ('truncate', Truncate(cutoffStart=cutoffStart, cutoffEnd=cutoffEnd, n=90)),\n",
    "    ('Derivitive', Derivitive(window=31, deg=3,deriv=1)),\n",
    "    ('peak', FindPeak()),\n",
    "    ('logCt',HyperCt(offset=0.05)),\n",
    "    \n",
    "])\n",
    "hCtT_X = hCtT.transform(X)\n",
    "\n",
    "hCtTPredictT = Pipeline([\n",
    "    ('smooth', Smoother(stddev=2, windowlength=11, window='hanning')),\n",
    "    ('normalize', Normalize(mode='mean', normalizeRange=(normStart, normEnd))),\n",
    "    ('truncate', Truncate(cutoffStart=cutoffStart, cutoffEnd=cutoffEnd, n=90)),\n",
    "    ('Derivitive', Derivitive(window=31, deg=3)),\n",
    "    ('peak', FindPeak()),\n",
    "    ('logCt',HyperCt(offset=0)),\n",
    "    ('predictor',CtPredictor(ct=22,prominence=0.22,sd=0.05))\n",
    "])\n",
    "hCtpred_X = hCtTPredictT.transform(X)\n"
   ]
  },
  {
   "cell_type": "code",
   "execution_count": null,
   "id": "c792c099",
   "metadata": {},
   "outputs": [],
   "source": [
    "\n",
    "col = 1\n",
    "row = 1\n",
    "print(f'Generating curve plots in a {row} x {col} Grid')\n",
    "fig, axes = plt.subplots(row, col, figsize=(col*4, row*3))\n",
    "\n",
    "i=0\n",
    "ax = axes\n",
    "# ax.set_ylim([0,1.3])\n",
    "\n",
    "smoothed_c = smoothed_X[i]\n",
    "t,deri,_ =  deri_X[i]\n",
    "left_ips,peak_prominence,peak_width, *sd= hCtT_X[i]    \n",
    "\n",
    "curvePeakRange = findTimeVal(t,smoothed_c,left_ips,peak_width)\n",
    "xvals = np.linspace(t[0],t[-1],len(deri))\n",
    "\n",
    "\n",
    "# hyper ct\n",
    "hyperline = HyperCt.hyperF(None,hCtT_X[i][-4:-1])\n",
    "hyperCt = hCtT_X[i][-1]\n",
    "\n",
    "# plot smoothed current\n",
    "ax.plot(xvals,smoothed_c,color='red')\n",
    "# plot the signal drop part\n",
    "ax.plot(np.linspace(left_ips,left_ips+peak_width,len(curvePeakRange)) ,curvePeakRange,linewidth=4,alpha=0.75 )\n",
    "# plot plot the derivative peaks\n",
    "ax.plot(xvals,(deri - np.min(deri) ) / (np.max(deri) -np.min(deri) ) * (np.max(smoothed_c)-np.min(smoothed_c)) + np.min(smoothed_c),'--',alpha=0.8)\n",
    "# ax.plot(xvals,fitres(xvals),'b-.')\n",
    "# ax.plot(xvals,thresholdline(xvals),'b-.',alpha=0.7)\n",
    "# ax.plot([thresholdCt,thresholdCt],[0,2],'k-')\n",
    "\n",
    "# plot hyper fitting line\n",
    "ax.plot(xvals,hyperline(xvals),'k--',alpha=0.7)\n",
    "ax.plot([hyperCt,hyperCt],[0.5,1.1],'k--',alpha=0.7)\n",
    "    \n",
    "plt.tight_layout()\n"
   ]
  },
  {
   "cell_type": "code",
   "execution_count": null,
   "id": "6864399d",
   "metadata": {},
   "outputs": [],
   "source": [
    "# print the hyper curve fit\n",
    "\n",
    "print(json.dumps([list(xvals),list(hyperline(xvals))]))\n",
    "hCtT_X[i][-4:-1]"
   ]
  },
  {
   "cell_type": "code",
   "execution_count": null,
   "id": "f33e4ef7",
   "metadata": {},
   "outputs": [],
   "source": [
    "hyperline"
   ]
  },
  {
   "cell_type": "code",
   "execution_count": null,
   "id": "2def816c",
   "metadata": {},
   "outputs": [],
   "source": [
    "plt.plot(xvals,smoothed_X[0],'.')"
   ]
  },
  {
   "cell_type": "code",
   "execution_count": null,
   "id": "e28e628a",
   "metadata": {},
   "outputs": [],
   "source": [
    "\n",
    "plt.plot(xvals,deri,'--',alpha=0.8)\n"
   ]
  },
  {
   "cell_type": "code",
   "execution_count": null,
   "id": "1aca0b3d",
   "metadata": {},
   "outputs": [],
   "source": [
    "# smooth \n",
    "smoothT = Pipeline([\n",
    "    ('smooth', Smoother(stddev=2, windowlength=11, window='hanning')),\n",
    "  \n",
    "])\n",
    "smoothed_X = smoothT.transform(X)\n",
    "fix,ax =plt.subplots(1,1)\n",
    "ax.plot(np.linspace(0,30,90),smoothed_X[0][1],'.')\n",
    "print(json.dumps([list(np.linspace(0,30,90)),list(smoothed_X[0][1])]))"
   ]
  },
  {
   "cell_type": "code",
   "execution_count": null,
   "id": "e0c0b854",
   "metadata": {},
   "outputs": [],
   "source": [
    "# smooth \n",
    "smoothT = Pipeline([\n",
    "    ('smooth', Smoother(stddev=2, windowlength=11, window='hanning')),\n",
    "  ('normalize', Normalize(mode='mean', normalizeRange=(normStart, normEnd))),\n",
    "])\n",
    "smoothed_X = smoothT.transform(X)\n",
    "fix,ax =plt.subplots(1,1)\n",
    "ax.plot(np.linspace(0,30,90),smoothed_X[0][1],'.')\n",
    "print(json.dumps([list(np.linspace(0,30,90)),list(smoothed_X[0][1])]))"
   ]
  },
  {
   "cell_type": "code",
   "execution_count": null,
   "id": "c66d03c0",
   "metadata": {},
   "outputs": [],
   "source": [
    "# smooth normalize and truncate\n",
    "smoothT = Pipeline([\n",
    "    ('smooth', Smoother(stddev=2, windowlength=11, window='hanning')),\n",
    "  ('normalize', Normalize(mode='mean', normalizeRange=(normStart, normEnd))),\n",
    "  ('truncate', Truncate(cutoffStart=cutoffStart, cutoffEnd=cutoffEnd, n=90)),\n",
    "])\n",
    "smoothed_X = smoothT.transform(X)\n",
    "fix,ax =plt.subplots(1,1)\n",
    "ax.plot(xvals,smoothed_X[0][1],'.')\n",
    "print(json.dumps([list(xvals),list(smoothed_X[0][1])]))"
   ]
  },
  {
   "cell_type": "code",
   "execution_count": null,
   "id": "d93ab584",
   "metadata": {},
   "outputs": [],
   "source": [
    "# the curve after S-G filter\n",
    "smoothT = Pipeline([\n",
    "    ('smooth', Smoother(stddev=2, windowlength=11, window='hanning')),\n",
    "   ('normalize', Normalize(mode='mean', normalizeRange=(normStart, normEnd))),\n",
    "    ('truncate', Truncate(cutoffStart=cutoffStart, cutoffEnd=cutoffEnd, n=90)),\n",
    "    ('Derivitive', Derivitive(window=31, deg=3,deriv=0)),\n",
    "])\n",
    "smoothed_X = smoothT.transform(X)\n",
    "fix,ax =plt.subplots(1,1)\n",
    "ax.plot(xvals,-smoothed_X[0][1],'.')\n",
    "print(json.dumps([list(xvals),list(-smoothed_X[0][1])]))"
   ]
  },
  {
   "cell_type": "code",
   "execution_count": null,
   "id": "e793a879",
   "metadata": {},
   "outputs": [],
   "source": [
    "len(smoothed_X[0][1])"
   ]
  },
  {
   "cell_type": "code",
   "execution_count": null,
   "id": "4be0c64c",
   "metadata": {},
   "outputs": [],
   "source": [
    "# the curve after S-G filter and get derivative\n",
    "smoothT = Pipeline([\n",
    "    ('smooth', Smoother(stddev=2, windowlength=11, window='hanning')),\n",
    "   ('normalize', Normalize(mode='mean', normalizeRange=(normStart, normEnd))),\n",
    "    ('truncate', Truncate(cutoffStart=cutoffStart, cutoffEnd=cutoffEnd, n=90)),\n",
    "    ('Derivitive', Derivitive(window=31, deg=3,deriv=1)),\n",
    "])\n",
    "smoothed_X = smoothT.transform(X)\n",
    "fix,ax =plt.subplots(1,1)\n",
    "ax.plot(xvals,-smoothed_X[0][1],'.')\n",
    "print(json.dumps([list(xvals),list(-smoothed_X[0][1])]))"
   ]
  },
  {
   "cell_type": "code",
   "execution_count": null,
   "id": "79ef0c31",
   "metadata": {},
   "outputs": [],
   "source": [
    "# the curve after S-G filter and get derivative negate\n",
    "smoothT = Pipeline([\n",
    "    ('smooth', Smoother(stddev=2, windowlength=11, window='hanning')),\n",
    "   ('normalize', Normalize(mode='mean', normalizeRange=(normStart, normEnd))),\n",
    "    ('truncate', Truncate(cutoffStart=cutoffStart, cutoffEnd=cutoffEnd, n=90)),\n",
    "    ('Derivitive', Derivitive(window=31, deg=3,deriv=1)),\n",
    "])\n",
    "smoothed_X = smoothT.transform(X)\n",
    "fix,ax =plt.subplots(1,1)\n",
    "ax.plot(xvals,smoothed_X[0][1],'.')\n",
    "print(json.dumps([list(xvals),list(smoothed_X[0][1])]))"
   ]
  },
  {
   "cell_type": "code",
   "execution_count": null,
   "id": "6619a1aa",
   "metadata": {},
   "outputs": [],
   "source": [
    "#different window \n",
    "window=25\n",
    "# the curve after S-G filter and get derivative negate\n",
    "smoothT = Pipeline([\n",
    "    ('smooth', Smoother(stddev=2, windowlength=11, window='hanning')),\n",
    "   ('normalize', Normalize(mode='mean', normalizeRange=(normStart, normEnd))),\n",
    "    ('truncate', Truncate(cutoffStart=cutoffStart, cutoffEnd=cutoffEnd, n=90)),\n",
    "    ('Derivitive', Derivitive(window=window, deg=3,deriv=0)),\n",
    "])\n",
    "smoothed_X = smoothT.transform(X)\n",
    "fix,ax =plt.subplots(1,1)\n",
    "ax.plot(xvals,smoothed_X[0][1],'.')\n",
    "print('左图:', json.dumps([list(xvals),list(smoothed_X[0][1])]))\n",
    "\n",
    "# the curve after S-G filter and get derivative negate\n",
    "smoothT = Pipeline([\n",
    "    ('smooth', Smoother(stddev=2, windowlength=11, window='hanning')),\n",
    "   ('normalize', Normalize(mode='mean', normalizeRange=(normStart, normEnd))),\n",
    "    ('truncate', Truncate(cutoffStart=cutoffStart, cutoffEnd=cutoffEnd, n=90)),\n",
    "    ('Derivitive', Derivitive(window=window, deg=3,deriv=1)),\n",
    "])\n",
    "smoothed_X = smoothT.transform(X)\n",
    "fix,ax =plt.subplots(1,1)\n",
    "ax.plot(xvals,smoothed_X[0][1],'.')\n",
    "print('右图:',json.dumps([list(xvals),list(smoothed_X[0][1])]))"
   ]
  },
  {
   "cell_type": "code",
   "execution_count": null,
   "id": "9f889cc1",
   "metadata": {},
   "outputs": [],
   "source": []
  },
  {
   "cell_type": "code",
   "execution_count": null,
   "id": "34d45a8c",
   "metadata": {},
   "outputs": [],
   "source": []
  },
  {
   "cell_type": "code",
   "execution_count": null,
   "id": "699674a8",
   "metadata": {},
   "outputs": [],
   "source": []
  },
  {
   "cell_type": "code",
   "execution_count": null,
   "id": "b4c21581",
   "metadata": {},
   "outputs": [],
   "source": []
  }
 ],
 "metadata": {
  "kernelspec": {
   "display_name": "Python 3",
   "language": "python",
   "name": "python3"
  },
  "language_info": {
   "codemirror_mode": {
    "name": "ipython",
    "version": 3
   },
   "file_extension": ".py",
   "mimetype": "text/x-python",
   "name": "python",
   "nbconvert_exporter": "python",
   "pygments_lexer": "ipython3",
   "version": "3.7.9"
  }
 },
 "nbformat": 4,
 "nbformat_minor": 5
}
