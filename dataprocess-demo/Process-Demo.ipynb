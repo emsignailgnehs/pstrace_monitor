{
 "cells": [
  {
   "cell_type": "markdown",
   "id": "f9f4856d",
   "metadata": {},
   "source": [
    "### Read sample data\n",
    "\n",
    "The test last for 30 minutes, there are a total of 2 - 4 channels to be measured. Measurement is done every 20 seconds on all channels. Currently we have 2 channel, but in the future we will have 4 channel.\n",
    "\n",
    "At each measuremnt, a total of 120 data point is collected. Measurement on 1 channel normally takes less than 1-2 seconds.\n",
    "\n",
    "This sample data is the data collected on 1 channel during the test. It is a list of 90 measurements. For each measurement, it consits of a start/end potential for this measurement and 120 current data.\n",
    "\n",
    "For example, the first measurement: \n",
    "\n",
    "```\n",
    "[\n",
    "    [\n",
    "      -0.407,\n",
    "      0.193\n",
    "    ],\n",
    "    [\n",
    "      7.952,\n",
    "      9.462,\n",
    "      9.058,\n",
    "      .\n",
    "      .\n",
    "      .\n",
    "    ],\n",
    "    ...\n",
    "```\n",
    "\n",
    "The starting potential is -.407V, ending potential is 0.193V, 120 data point is collected. Current values are 7.952... etc."
   ]
  },
  {
   "cell_type": "code",
   "execution_count": 1,
   "id": "6de96003",
   "metadata": {},
   "outputs": [],
   "source": [
    "# load the data.\n",
    "# you can change './sample.json' to your own JSON data file.\n",
    "# the sample json data is using a non-standard affix because of my gitignore.\n",
    "import json\n",
    "data = json.load(open('./sample.json.txt'))"
   ]
  },
  {
   "cell_type": "markdown",
   "id": "547f4f3f",
   "metadata": {},
   "source": [
    "### Data format"
   ]
  },
  {
   "cell_type": "code",
   "execution_count": null,
   "id": "c37e526e",
   "metadata": {},
   "outputs": [],
   "source": [
    "# the totoal time points of the data:\n",
    "print(f'There are a total of {len(data)} measurements.')\n",
    "\n",
    "print(f'The start and ending potential of the first measurement is {data[0][0][0]}V and {data[0][0][1]}V.')\n",
    "\n",
    "print(f'The first measurement result: {data[0][1]}')\n",
    "print(f\"The first measurement result's length is {len(data[0][1])}\")"
   ]
  },
  {
   "cell_type": "code",
   "execution_count": null,
   "id": "6a07cfe9",
   "metadata": {},
   "outputs": [],
   "source": [
    "### show one of the data and the format to be returned from M355\n",
    "index = -1\n",
    "print('One of the returned repsonse from M355 is:')\n",
    "print(json.dumps({\"r\":data[index][1]},separators=(',',':')) + '*')"
   ]
  },
  {
   "cell_type": "code",
   "execution_count": 2,
   "id": "240e18c6",
   "metadata": {},
   "outputs": [
    {
     "name": "stdout",
     "output_type": "stream",
     "text": [
      "This is how the raw data looks:\n"
     ]
    },
    {
     "data": {
      "image/png": "[encoded data removed]",
      "text/plain": [
       "<Figure size 432x288 with 1 Axes>"
      ]
     },
     "metadata": {
      "needs_background": "light"
     },
     "output_type": "display_data"
    }
   ],
   "source": [
    "### plot the raw data\n",
    "from util import plotFit\n",
    "import numpy as np\n",
    "index = -1\n",
    "potentials = np.linspace(*data[index][0],len(data[index][1]))\n",
    "currents = data[index][1]\n",
    "print('This is how the raw data looks:')\n",
    "plotFit(potentials,currents)"
   ]
  },
  {
   "cell_type": "markdown",
   "id": "82b478cf",
   "metadata": {},
   "source": [
    "### perform data analysis to find the measurement value at each measurement\n",
    "\n",
    "The operation is done in real time, whenever a measurement is finished, the raw data is processed to generate the fitting result. The raw data can be discarded, only store the fitting result.\n",
    "\n"
   ]
  },
  {
   "cell_type": "code",
   "execution_count": 3,
   "id": "ebf8c210",
   "metadata": {},
   "outputs": [],
   "source": [
    "# the peak fitting algorithm is in the util module. \n",
    "# you can look in to details. \n",
    "# certain algorithms from python packages are used. We need to migrate those algorithms as well.\n",
    "\n",
    "from util import myfitpeak,plotFit\n",
    "import numpy as np\n",
    "\n",
    "fits = []\n",
    "for v,a in data:\n",
    "    fits.append(myfitpeak(np.linspace(*v,len(a)),a))\n"
   ]
  },
  {
   "cell_type": "code",
   "execution_count": null,
   "id": "d3d7e752",
   "metadata": {},
   "outputs": [],
   "source": [
    "print(json.dumps(fits[-1],indent=2))"
   ]
  },
  {
   "cell_type": "markdown",
   "id": "a4b0e19b",
   "metadata": {},
   "source": [
    "### Fitting result\n",
    "- `pc` is the peak high in the figure below.(green verticle line). This is the value we use for downstream calling.\n",
    "- `fx, fy` are the cordinates of the peak base. (left and right intersection point of the orange line)\n",
    "- `pv` is the peak center.\n",
    "- `err` is a estimation of how close the peak is to a normal distribution. "
   ]
  },
  {
   "cell_type": "code",
   "execution_count": 4,
   "id": "f462027f",
   "metadata": {},
   "outputs": [
    {
     "name": "stdout",
     "output_type": "stream",
     "text": [
      "This is demonstrating how the raw measurement and one of fitting result looks like:\n"
     ]
    },
    {
     "data": {
      "image/png": "[encoded data removed]",
      "text/plain": [
       "<Figure size 432x288 with 1 Axes>"
      ]
     },
     "metadata": {
      "needs_background": "light"
     },
     "output_type": "display_data"
    }
   ],
   "source": [
    "# This is demonstrating how the raw measurement and one of fitting result looks like \n",
    "print('This is demonstrating how the raw measurement and one of fitting result looks like:')\n",
    "index = -1\n",
    "potentials = np.linspace(*data[index][0],len(data[index][1]))\n",
    "currents = data[index][1]\n",
    "plotFit(potentials , currents, fits[index] )"
   ]
  },
  {
   "cell_type": "markdown",
   "id": "dd66ae4f",
   "metadata": {},
   "source": [
    "### Perform the result calling from the time course result\n",
    "\n",
    "The `pc` value at each measurement from the previous step is used to predict whether the channel is positive or negative."
   ]
  },
  {
   "cell_type": "code",
   "execution_count": 6,
   "id": "c1b10cba",
   "metadata": {},
   "outputs": [
    {
     "data": {
      "image/png": "[encoded data removed]",
      "text/plain": [
       "<Figure size 432x288 with 1 Axes>"
      ]
     },
     "metadata": {
      "needs_background": "light"
     },
     "output_type": "display_data"
    }
   ],
   "source": [
    "# Here is how the time course curve normally looks like\n",
    "# plotting is just for show here.\n",
    "import matplotlib.pyplot as plt\n",
    "plt.plot( np.linspace(0,30,len(fits)) ,  [i['pc'] for i in fits], '.')\n",
    "plt.ylabel('PC / uA')\n",
    "plt.xlabel('Time / minutes')\n",
    "plt.title('Time course of PC of one channel')\n",
    "plt.show()"
   ]
  },
  {
   "cell_type": "code",
   "execution_count": 7,
   "id": "349c76d6",
   "metadata": {},
   "outputs": [
    {
     "name": "stdout",
     "output_type": "stream",
     "text": [
      "The result is Positive.\n",
      "The reaction Ct is 16.59 minutes.\n",
      "The prominance is 1.5733.\n",
      "The signal drop is 0.2204.\n"
     ]
    }
   ],
   "source": [
    "\n",
    "from util import hCtTPredictT,convert_list_to_X\n",
    "\n",
    "# t is the time points, the measurement is taken over 30 minutes, and a total of len(fits) measurements.\n",
    "t = np.linspace(0,30,len(fits))\n",
    "# c is all the `pc` in fitting result\n",
    "c = [i['pc'] for i in fits]\n",
    "data = [[t,c]]\n",
    "\n",
    "# the convert_list_to_X is just to transform the data to the shape that works with the scipy pipeline.\n",
    "X = convert_list_to_X(data)\n",
    "\n",
    "# hCtPredictT is the pipeline that transforms and fits the data to give calling result.\n",
    "result = hCtTPredictT.transform(X)\n",
    "\n",
    "call, Ct, prominance, signal_drop = result[0]\n",
    "\n",
    "print(f\"The result is {'Positive' if call else 'Negative'}.\")\n",
    "print(f\"The reaction Ct is {Ct:.2f} minutes.\")\n",
    "print(f\"The prominance is {prominance:.4f}.\")\n",
    "print(f\"The signal drop is {signal_drop:.4f}.\")"
   ]
  },
  {
   "cell_type": "markdown",
   "id": "f0b999c2",
   "metadata": {},
   "source": [
    "### You can look into the `hCtTPredictT` pipeline to see what calculations are done.\n",
    "\n",
    "The calculations utilizes some python packages, these functions need to be migrated."
   ]
  }
 ],
 "metadata": {
  "kernelspec": {
   "display_name": "Python 3",
   "language": "python",
   "name": "python3"
  },
  "language_info": {
   "codemirror_mode": {
    "name": "ipython",
    "version": 3
   },
   "file_extension": ".py",
   "mimetype": "text/x-python",
   "name": "python",
   "nbconvert_exporter": "python",
   "pygments_lexer": "ipython3",
   "version": "3.7.9"
  }
 },
 "nbformat": 4,
 "nbformat_minor": 5
}
