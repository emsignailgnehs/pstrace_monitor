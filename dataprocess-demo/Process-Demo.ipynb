{
 "cells": [
  {
   "cell_type": "markdown",
   "id": "f9f4856d",
   "metadata": {},
   "source": [
    "### Read sample data\n",
    "\n",
    "The test last for 30 minutes, there are a total of 2 - 4 channels to be measured. Measurement is done every 20 seconds on all channels. Currently we have 2 channel, but in the future we will have 4 channel.\n",
    "\n",
    "At each measuremnt, a total of 120 data point is collected. Measurement on 1 channel normally takes less than 1-2 seconds.\n",
    "\n",
    "This sample data is the data collected on 1 channel during the test. It is a list of 90 measurements. For each measurement, it consits of a start/end potential for this measurement and 120 current data.\n",
    "\n",
    "For example, the first measurement: \n",
    "\n",
    "```\n",
    "[\n",
    "    [\n",
    "      -0.407,\n",
    "      0.193\n",
    "    ],\n",
    "    [\n",
    "      7.952,\n",
    "      9.462,\n",
    "      9.058,\n",
    "      .\n",
    "      .\n",
    "      .\n",
    "    ],\n",
    "    ...\n",
    "```\n",
    "\n",
    "The starting potential is -.407V, ending potential is 0.193V, 120 data point is collected. Current values are 7.952... etc."
   ]
  },
  {
   "cell_type": "code",
   "execution_count": 18,
   "id": "6de96003",
   "metadata": {},
   "outputs": [],
   "source": [
    "# load the data.\n",
    "# you can change './sample.json' to your own JSON data file.\n",
    "# the sample json data is using a non-standard affix because of my gitignore.\n",
    "import json\n",
    "data = json.load(open('./sample.json.txt'))"
   ]
  },
  {
   "cell_type": "markdown",
   "id": "547f4f3f",
   "metadata": {},
   "source": [
    "### Data format"
   ]
  },
  {
   "cell_type": "code",
   "execution_count": 10,
   "id": "c37e526e",
   "metadata": {},
   "outputs": [
    {
     "name": "stdout",
     "output_type": "stream",
     "text": [
      "There are a total of 90 measurements.\n",
      "The start and ending potential of the first measurement is -0.452V and 0.148V.\n",
      "The first measurement result: [6.773, 7.777, 7.427, 7.141, 6.869, 6.549, 6.306, 6.055, 5.839, 5.649, 5.519, 5.359, 5.19, 5.082, 4.991, 4.879, 4.818, 4.728, 4.641, 4.606, 4.637, 4.663, 4.723, 4.836, 4.888, 5.039, 5.242, 5.446, 5.688, 6.03, 6.458, 6.873, 7.375, 7.98, 8.551, 9.152, 9.875, 10.502, 11.181, 11.955, 12.742, 13.504, 14.187, 14.931, 15.519, 16.034, 16.497, 16.791, 16.856, 16.981, 16.903, 16.921, 16.696, 16.397, 15.887, 15.433, 14.961, 14.252, 13.59, 12.972, 12.189, 11.575, 10.796, 10.082, 9.191, 8.447, 7.708, 6.856, 6.138, 5.545, 4.909, 4.442, 4.031, 3.599, 3.331, 3.101, 2.911, 2.742, 2.617, 2.539, 2.431, 2.375, 2.331, 2.288, 2.284, 2.275, 2.245, 2.228, 2.219, 2.215, 2.171, 2.219, 2.228, 2.232, 2.215, 2.249, 2.245, 2.253, 2.284, 2.292, 2.292, 2.349, 2.357, 2.379, 2.431, 2.465, 2.461, 2.504, 2.526, 2.548, 2.582, 2.656, 2.686, 2.729, 2.764, 2.811, 2.829, 2.863, 2.924, 2.937]\n",
      "The first measurement result's length is 120\n"
     ]
    }
   ],
   "source": [
    "# the totoal time points of the data:\n",
    "print(f'There are a total of {len(data)} measurements.')\n",
    "\n",
    "print(f'The start and ending potential of the first measurement is {data[0][0][0]}V and {data[0][0][1]}V.')\n",
    "\n",
    "print(f'The first measurement result: {data[0][1]}')\n",
    "print(f\"The first measurement result's length is {len(data[0][1])}\")"
   ]
  },
  {
   "cell_type": "code",
   "execution_count": 11,
   "id": "6a07cfe9",
   "metadata": {},
   "outputs": [
    {
     "name": "stdout",
     "output_type": "stream",
     "text": [
      "One of the returned repsonse from M355 is:\n",
      "{\"r\":[11.242,12.738,12.076,11.497,10.965,10.424,9.948,9.602,9.17,8.828,8.547,8.123,7.781,7.548,7.28,6.99,6.773,6.622,6.484,6.25,6.203,5.908,5.77,5.645,5.558,5.415,5.312,5.255,5.212,5.151,5.126,5.026,5.039,5.113,5.138,5.208,5.342,5.454,5.692,5.952,6.237,6.432,6.821,7.267,7.66,8.145,8.711,9.196,9.866,10.489,11.069,11.527,12.072,12.626,13.106,13.564,13.992,14.248,14.672,14.836,14.832,14.702,14.468,14.226,13.75,13.361,12.894,12.215,11.726,11.125,10.398,9.693,9.079,8.517,7.825,7.31,6.769,6.224,5.835,5.467,5.087,4.749,4.485,4.23,4.027,3.901,3.737,3.603,3.521,3.439,3.339,3.253,3.192,3.136,3.08,3.045,2.993,2.933,2.946,2.907,2.881,2.837,2.82,2.768,2.742,2.734,2.699,2.695,2.695,2.677,2.673,2.647,2.63,2.595,2.625,2.613,2.587,2.595,2.608,2.595]}*\n"
     ]
    }
   ],
   "source": [
    "### show one of the data and the format to be returned from M355\n",
    "index = -1\n",
    "print('One of the returned repsonse from M355 is:')\n",
    "print(json.dumps({\"r\":data[index][1]},separators=(',',':')) + '*')"
   ]
  },
  {
   "cell_type": "code",
   "execution_count": 12,
   "id": "240e18c6",
   "metadata": {},
   "outputs": [
    {
     "name": "stdout",
     "output_type": "stream",
     "text": [
      "This is how the raw data looks:\n"
     ]
    },
    {
     "data": {
      "image/png": "[encoded data removed]",
      "text/plain": [
       "<Figure size 432x288 with 1 Axes>"
      ]
     },
     "metadata": {
      "needs_background": "light"
     },
     "output_type": "display_data"
    }
   ],
   "source": [
    "### plot the raw data\n",
    "from util import plotFit\n",
    "import numpy as np\n",
    "index = -1\n",
    "potentials = np.linspace(*data[index][0],len(data[index][1]))\n",
    "currents = data[index][1]\n",
    "print('This is how the raw data looks:')\n",
    "plotFit(potentials,currents)"
   ]
  },
  {
   "cell_type": "markdown",
   "id": "82b478cf",
   "metadata": {},
   "source": [
    "### perform data analysis to find the measurement value at each measurement\n",
    "\n",
    "The operation is done in real time, whenever a measurement is finished, the raw data is processed to generate the fitting result. The raw data can be discarded, only store the fitting result.\n",
    "\n"
   ]
  },
  {
   "cell_type": "code",
   "execution_count": 13,
   "id": "ebf8c210",
   "metadata": {},
   "outputs": [],
   "source": [
    "# the peak fitting algorithm is in the util module. \n",
    "# you can look in to details. \n",
    "# certain algorithms from python packages are used. We need to migrate those algorithms as well.\n",
    "\n",
    "from util import myfitpeak,plotFit\n",
    "import numpy as np\n",
    "\n",
    "fits = []\n",
    "for v,a in data:\n",
    "    fits.append(myfitpeak(np.linspace(*v,len(a)),a))\n"
   ]
  },
  {
   "cell_type": "code",
   "execution_count": 14,
   "id": "d3d7e752",
   "metadata": {},
   "outputs": [
    {
     "name": "stdout",
     "output_type": "stream",
     "text": [
      "{\n",
      "  \"fx\": [\n",
      "    -0.4517394957983193,\n",
      "    -0.10888235294117649\n",
      "  ],\n",
      "  \"fy\": [\n",
      "    5.124098337219376,\n",
      "    2.9336986844382498\n",
      "  ],\n",
      "  \"pc\": 10.463934434787408,\n",
      "  \"pv\": -0.30047899159663866,\n",
      "  \"err\": 0.05306931050581011\n",
      "}\n"
     ]
    }
   ],
   "source": [
    "print(json.dumps(fits[-1],indent=2))"
   ]
  },
  {
   "cell_type": "markdown",
   "id": "a4b0e19b",
   "metadata": {},
   "source": [
    "### Fitting result\n",
    "- `pc` is the peak high in the figure below.(green verticle line). This is the value we use for downstream calling.\n",
    "- `fx, fy` are the cordinates of the peak base. (left and right intersection point of the orange line)\n",
    "- `pv` is the peak center.\n",
    "- `err` is a estimation of how close the peak is to a normal distribution. "
   ]
  },
  {
   "cell_type": "code",
   "execution_count": 15,
   "id": "f462027f",
   "metadata": {},
   "outputs": [
    {
     "name": "stdout",
     "output_type": "stream",
     "text": [
      "This is demonstrating how the raw measurement and one of fitting result looks like:\n"
     ]
    },
    {
     "data": {
      "image/png": "[encoded data removed]",
      "text/plain": [
       "<Figure size 432x288 with 1 Axes>"
      ]
     },
     "metadata": {
      "needs_background": "light"
     },
     "output_type": "display_data"
    }
   ],
   "source": [
    "# This is demonstrating how the raw measurement and one of fitting result looks like \n",
    "print('This is demonstrating how the raw measurement and one of fitting result looks like:')\n",
    "index = -1\n",
    "potentials = np.linspace(*data[index][0],len(data[index][1]))\n",
    "currents = data[index][1]\n",
    "plotFit(potentials , currents, fits[index] )"
   ]
  },
  {
   "cell_type": "markdown",
   "id": "dd66ae4f",
   "metadata": {},
   "source": [
    "### Perform the result calling from the time course result\n",
    "\n",
    "The `pc` value at each measurement from the previous step is used to predict whether the channel is positive or negative."
   ]
  },
  {
   "cell_type": "code",
   "execution_count": 16,
   "id": "c1b10cba",
   "metadata": {},
   "outputs": [
    {
     "data": {
      "image/png": "[encoded data removed]",
      "text/plain": [
       "<Figure size 432x288 with 1 Axes>"
      ]
     },
     "metadata": {
      "needs_background": "light"
     },
     "output_type": "display_data"
    }
   ],
   "source": [
    "# Here is how the time course curve normally looks like\n",
    "# plotting is just for show here.\n",
    "import matplotlib.pyplot as plt\n",
    "plt.plot( np.linspace(0,30,len(fits)) ,  [i['pc'] for i in fits])\n",
    "plt.ylabel('PC / uA')\n",
    "plt.xlabel('Time / minutes')\n",
    "plt.title('Time course of PC of one channel')\n",
    "plt.show()"
   ]
  },
  {
   "cell_type": "code",
   "execution_count": 17,
   "id": "349c76d6",
   "metadata": {},
   "outputs": [
    {
     "name": "stdout",
     "output_type": "stream",
     "text": [
      "The result is Positive.\n",
      "The reaction Ct is 12.80 minutes.\n",
      "The prominance is 1.3104.\n",
      "The signal drop is 0.1987.\n"
     ]
    }
   ],
   "source": [
    "\n",
    "from util import hCtTPredictT,convert_list_to_X\n",
    "\n",
    "# t is the time points, the measurement is taken over 30 minutes, and a total of len(fits) measurements.\n",
    "t = np.linspace(0,30,len(fits))\n",
    "# c is all the `pc` in fitting result\n",
    "c = [i['pc'] for i in fits]\n",
    "data = [[t,c]]\n",
    "\n",
    "# the convert_list_to_X is just to transform the data to the shape that works with the scipy pipeline.\n",
    "X = convert_list_to_X(data)\n",
    "\n",
    "# hCtPredictT is the pipeline that transforms and fits the data to give calling result.\n",
    "result = hCtTPredictT.transform(X)\n",
    "\n",
    "call, Ct, prominance, signal_drop = result[0]\n",
    "\n",
    "print(f\"The result is {'Positive' if call else 'Negative'}.\")\n",
    "print(f\"The reaction Ct is {Ct:.2f} minutes.\")\n",
    "print(f\"The prominance is {prominance:.4f}.\")\n",
    "print(f\"The signal drop is {signal_drop:.4f}.\")"
   ]
  },
  {
   "cell_type": "markdown",
   "id": "f0b999c2",
   "metadata": {},
   "source": [
    "### You can look into the `hCtTPredictT` pipeline to see what calculations are done.\n",
    "\n",
    "The calculations utilizes some python packages, these functions need to be migrated."
   ]
  }
 ],
 "metadata": {
  "kernelspec": {
   "display_name": "Python 3",
   "language": "python",
   "name": "python3"
  },
  "language_info": {
   "codemirror_mode": {
    "name": "ipython",
    "version": 3
   },
   "file_extension": ".py",
   "mimetype": "text/x-python",
   "name": "python",
   "nbconvert_exporter": "python",
   "pygments_lexer": "ipython3",
   "version": "3.7.9"
  }
 },
 "nbformat": 4,
 "nbformat_minor": 5
}
