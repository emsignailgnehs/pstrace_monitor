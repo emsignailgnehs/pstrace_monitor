{
 "cells": [
  {
   "cell_type": "markdown",
   "id": "f9f4856d",
   "metadata": {},
   "source": [
    "### Read sample data\n",
    "\n",
    "The test last for 30 minutes, there are a total of 2 - 4 channels to be measured. Measurement is done every 20 seconds on all channels. Currently we have 2 channel, but in the future we will have 4 channel.\n",
    "\n",
    "At each measuremnt, a total of 120 data point is collected. Measurement on 1 channel normally takes less than 1-2 seconds.\n",
    "\n",
    "This sample data is the data collected on 1 channel during the test. It is a list of 90 measurements. For each measurement, it consits of a start/end potential for this measurement and 120 current data.\n",
    "\n",
    "For example, the first measurement: \n",
    "\n",
    "```\n",
    "[\n",
    "    [\n",
    "      -0.407,\n",
    "      0.193\n",
    "    ],\n",
    "    [\n",
    "      7.952,\n",
    "      9.462,\n",
    "      9.058,\n",
    "      .\n",
    "      .\n",
    "      .\n",
    "    ],\n",
    "    ...\n",
    "```\n",
    "\n",
    "The starting potential is -.407V, ending potential is 0.193V, 120 data point is collected. Current values are 7.952... etc."
   ]
  },
  {
   "cell_type": "code",
   "execution_count": null,
   "id": "9de5f604",
   "metadata": {},
   "outputs": [],
   "source": [
    "# TWXY serial port data txt file\n",
    "data2 = r\"C:\\Users\\hui\\Work\\HuiWork\\Covid_Reader\\TWXY\\dat_2.txt\"\n",
    "data4 = r\"C:\\Users\\hui\\Work\\HuiWork\\Covid_Reader\\TWXY\\dat_4.txt\"\n",
    "\n"
   ]
  },
  {
   "cell_type": "code",
   "execution_count": null,
   "id": "2579f854",
   "metadata": {},
   "outputs": [],
   "source": [
    "# convert txt file to [[[vS,vE],[A,A,A]],...]\n",
    "with open(data4,'rt') as f:\n",
    "    txt = f.read()\n",
    "\n",
    "import json\n",
    "jsons = txt.replace('\\n','').split('*')\n",
    "alldata=[]\n",
    "for i in jsons:\n",
    "    if (i.strip()):\n",
    "        j = json.loads(i)\n",
    "        current = j.get('c',[])\n",
    "        if len(current) > 50:\n",
    "            alldata.append([[-0.6,0.1],current])\n",
    "channel = 2\n",
    "data = alldata[channel::4]\n"
   ]
  },
  {
   "cell_type": "code",
   "execution_count": null,
   "id": "b820374f",
   "metadata": {},
   "outputs": [],
   "source": [
    "len(alldata)"
   ]
  },
  {
   "cell_type": "code",
   "execution_count": null,
   "id": "6de96003",
   "metadata": {},
   "outputs": [],
   "source": [
    "# load the data.\n",
    "# you can change './sample.json' to your own JSON data file.\n",
    "# the sample json data is using a non-standard affix because of my gitignore.\n",
    "import json\n",
    "# data = json.load(open('./sample.json.txt'))\n",
    "data = json.load(open('./exportData/positive1.json.txt'))"
   ]
  },
  {
   "cell_type": "markdown",
   "id": "547f4f3f",
   "metadata": {},
   "source": [
    "### Data format"
   ]
  },
  {
   "cell_type": "code",
   "execution_count": null,
   "id": "c37e526e",
   "metadata": {},
   "outputs": [],
   "source": [
    "# the totoal time points of the data:\n",
    "print(f'There are a total of {len(data)} measurements.')\n",
    "\n",
    "print(f'The start and ending potential of the first measurement is {data[0][0][0]}V and {data[0][0][1]}V.')\n",
    "\n",
    "print(f'The first measurement result: {data[0][1]}')\n",
    "print(f\"The first measurement result's length is {len(data[0][1])}\")"
   ]
  },
  {
   "cell_type": "code",
   "execution_count": null,
   "id": "6a07cfe9",
   "metadata": {},
   "outputs": [],
   "source": [
    "### show one of the data and the format to be returned from M355\n",
    "index = -1\n",
    "print('One of the returned repsonse from M355 is:')\n",
    "print(json.dumps({\"r\":data[index][1]},separators=(',',':')) + '*')"
   ]
  },
  {
   "cell_type": "code",
   "execution_count": null,
   "id": "240e18c6",
   "metadata": {},
   "outputs": [],
   "source": [
    "### plot the raw data\n",
    "from util import plotFit\n",
    "import numpy as np\n",
    "index = -1\n",
    "potentials = np.linspace(*data[index][0],len(data[index][1]))\n",
    "currents = data[index][1]\n",
    "print('This is how the raw data looks:')\n",
    "plotFit(potentials,currents)"
   ]
  },
  {
   "cell_type": "markdown",
   "id": "82b478cf",
   "metadata": {},
   "source": [
    "### perform data analysis to find the measurement value at each measurement\n",
    "\n",
    "The operation is done in real time, whenever a measurement is finished, the raw data is processed to generate the fitting result. The raw data can be discarded, only store the fitting result.\n",
    "\n"
   ]
  },
  {
   "cell_type": "code",
   "execution_count": null,
   "id": "ebf8c210",
   "metadata": {},
   "outputs": [],
   "source": [
    "# the peak fitting algorithm is in the util module. \n",
    "# you can look in to details. \n",
    "# certain algorithms from python packages are used. We need to migrate those algorithms as well.\n",
    "\n",
    "from util import myfitpeak,plotFit\n",
    "from util import *\n",
    "import numpy as np\n",
    "\n",
    "fits = []\n",
    "for v,a in data:\n",
    "    fits.append(myfitpeak(np.linspace(*v,len(a)),a))\n"
   ]
  },
  {
   "cell_type": "code",
   "execution_count": null,
   "id": "d3d7e752",
   "metadata": {},
   "outputs": [],
   "source": [
    "print(json.dumps(fits[-1],indent=2))"
   ]
  },
  {
   "cell_type": "markdown",
   "id": "a4b0e19b",
   "metadata": {},
   "source": [
    "### Fitting result\n",
    "- `pc` is the peak high in the figure below.(green verticle line). This is the value we use for downstream calling.\n",
    "- `fx, fy` are the cordinates of the peak base. (left and right intersection point of the orange line)\n",
    "- `pv` is the peak center.\n",
    "- `err` is a estimation of how close the peak is to a normal distribution. "
   ]
  },
  {
   "cell_type": "code",
   "execution_count": null,
   "id": "f462027f",
   "metadata": {},
   "outputs": [],
   "source": [
    "# This is demonstrating how the raw measurement and one of fitting result looks like \n",
    "print('This is demonstrating how the raw measurement and one of fitting result looks like:')\n",
    "fig,axes = plt.subplots(4,4,figsize=(24,16))\n",
    "axes = [i for j in axes for i in j]\n",
    "for a,i in enumerate(range(0,80,5)):\n",
    "    index = i\n",
    "    potentials = np.linspace(*data[index][0],len(data[index][1]))\n",
    "    currents = data[index][1]\n",
    "    plotFit(potentials , currents, fits[index] ,ax= axes[a], title=f\"{index}th fit pc={fits[index]['pc']:.3f}\")\n"
   ]
  },
  {
   "cell_type": "code",
   "execution_count": null,
   "id": "19aaeb05",
   "metadata": {},
   "outputs": [],
   "source": []
  },
  {
   "cell_type": "markdown",
   "id": "dd66ae4f",
   "metadata": {},
   "source": [
    "### Perform the result calling from the time course result\n",
    "\n",
    "The `pc` value at each measurement from the previous step is used to predict whether the channel is positive or negative."
   ]
  },
  {
   "cell_type": "code",
   "execution_count": null,
   "id": "c1b10cba",
   "metadata": {},
   "outputs": [],
   "source": [
    "# Here is how the time course curve normally looks like\n",
    "# plotting is just for show here.\n",
    "import matplotlib.pyplot as plt\n",
    "plt.plot( np.linspace(0,30,len(fits)) ,  [i['pc'] for i in fits], '.')\n",
    "plt.ylabel('PC / uA')\n",
    "plt.ylim(0,25)\n",
    "plt.xlabel('Time / minutes')\n",
    "plt.title('Time course of PC of  channel 3')\n",
    "plt.show()"
   ]
  },
  {
   "cell_type": "code",
   "execution_count": null,
   "id": "74b37415",
   "metadata": {},
   "outputs": [],
   "source": []
  },
  {
   "cell_type": "code",
   "execution_count": null,
   "id": "349c76d6",
   "metadata": {},
   "outputs": [],
   "source": [
    "from util import hCtTPredictT,convert_list_to_X\n",
    "\n",
    "# t is the time points, the measurement is taken over 30 minutes, and a total of len(fits) measurements.\n",
    "t = np.linspace(0,30,len(fits))\n",
    "# c is all the `pc` in fitting result\n",
    "c = [i['pc'] for i in fits]\n",
    "data = [[t,c]]\n",
    "\n",
    "# the convert_list_to_X is just to transform the data to the shape that works with the scipy pipeline.\n",
    "X = convert_list_to_X(data)\n",
    "\n",
    "# hCtPredictT is the pipeline that transforms and fits the data to give calling result.\n",
    "result = hCtTPredictT.transform(X)\n",
    "\n",
    "call, Ct, prominance, signal_drop = result[0]\n",
    "\n",
    "print(f\"The result is {'Positive' if call else 'Negative'}.\")\n",
    "print(f\"The reaction Ct is {Ct:.2f} minutes.\")\n",
    "print(f\"The prominance is {prominance:.4f}.\")\n",
    "print(f\"The signal drop is {signal_drop:.4f}.\")"
   ]
  },
  {
   "cell_type": "markdown",
   "id": "f0b999c2",
   "metadata": {},
   "source": [
    "### You can look into the `hCtTPredictT` pipeline to see what calculations are done.\n",
    "\n",
    "The calculations utilizes some python packages, these functions need to be migrated."
   ]
  },
  {
   "cell_type": "code",
   "execution_count": null,
   "id": "2f94a728",
   "metadata": {},
   "outputs": [],
   "source": []
  },
  {
   "cell_type": "code",
   "execution_count": null,
   "id": "8f6db30b",
   "metadata": {},
   "outputs": [],
   "source": [
    "\n",
    "smoothT = Pipeline([\n",
    "    ('smooth', Smoother(stddev=2, windowlength=11, window='hanning')),\n",
    "    ('normalize', Normalize(mode='mean', normalizeRange=(normStart, normEnd))),\n",
    "    ('truncate', Truncate(cutoffStart=cutoffStart, cutoffEnd=cutoffEnd, n=90)),\n",
    "    ('remove time', RemoveTime()),\n",
    "])\n",
    "smoothed_X = smoothT.transform(X)\n",
    "\n",
    "deriT = Pipeline([\n",
    "    ('smooth', Smoother(stddev=2, windowlength=11, window='hanning')),\n",
    "    ('normalize', Normalize(mode='mean', normalizeRange=(normStart, normEnd))),\n",
    "    ('truncate', Truncate(cutoffStart=cutoffStart, cutoffEnd=cutoffEnd, n=90)),\n",
    "    ('Derivitive', Derivitive(window=31, deg=3)),\n",
    "    # ('remove time',RemoveTime()),\n",
    "])\n",
    "deri_X = deriT.transform(X)\n",
    "\n",
    "\n",
    "\n",
    "hCtT = Pipeline([\n",
    "    ('smooth', Smoother(stddev=2, windowlength=11, window='hanning')),\n",
    "    ('normalize', Normalize(mode='mean', normalizeRange=(normStart, normEnd))),\n",
    "    ('truncate', Truncate(cutoffStart=cutoffStart, cutoffEnd=cutoffEnd, n=90)),\n",
    "    ('Derivitive', Derivitive(window=31, deg=3,deriv=1)),\n",
    "    ('peak', FindPeak()),\n",
    "    ('logCt',HyperCt(offset=0.05)),\n",
    "    \n",
    "])\n",
    "hCtT_X = hCtT.transform(X)\n",
    "\n",
    "hCtTPredictT = Pipeline([\n",
    "    ('smooth', Smoother(stddev=2, windowlength=11, window='hanning')),\n",
    "    ('normalize', Normalize(mode='mean', normalizeRange=(normStart, normEnd))),\n",
    "    ('truncate', Truncate(cutoffStart=cutoffStart, cutoffEnd=cutoffEnd, n=90)),\n",
    "    ('Derivitive', Derivitive(window=31, deg=3)),\n",
    "    ('peak', FindPeak()),\n",
    "    ('logCt',HyperCt(offset=0)),\n",
    "    ('predictor',CtPredictor(ct=22,prominence=0.22,sd=0.05))\n",
    "])\n",
    "hCtpred_X = hCtTPredictT.transform(X)\n"
   ]
  },
  {
   "cell_type": "code",
   "execution_count": null,
   "id": "c792c099",
   "metadata": {},
   "outputs": [],
   "source": [
    "\n",
    "col = 1\n",
    "row = 1\n",
    "print(f'Generating curve plots in a {row} x {col} Grid')\n",
    "fig, axes = plt.subplots(row, col, figsize=(col*4, row*3))\n",
    "\n",
    "i=0\n",
    "ax = axes\n",
    "# ax.set_ylim([0,1.3])\n",
    "\n",
    "smoothed_c = smoothed_X[i]\n",
    "t,deri,_ =  deri_X[i]\n",
    "left_ips,peak_prominence,peak_width, *sd= hCtT_X[i]    \n",
    "\n",
    "curvePeakRange = findTimeVal(t,smoothed_c,left_ips,peak_width)\n",
    "xvals = np.linspace(t[0],t[-1],len(deri))\n",
    "\n",
    "\n",
    "# hyper ct\n",
    "hyperline = HyperCt.hyperF(None,hCtT_X[i][-4:-1])\n",
    "hyperCt = hCtT_X[i][-1]\n",
    "\n",
    "# plot smoothed current\n",
    "ax.plot(xvals,smoothed_c,color='red')\n",
    "# plot the signal drop part\n",
    "ax.plot(np.linspace(left_ips,left_ips+peak_width,len(curvePeakRange)) ,curvePeakRange,linewidth=4,alpha=0.75 )\n",
    "# plot plot the derivative peaks\n",
    "ax.plot(xvals,(deri - np.min(deri) ) / (np.max(deri) -np.min(deri) ) * (np.max(smoothed_c)-np.min(smoothed_c)) + np.min(smoothed_c),'--',alpha=0.8)\n",
    "# ax.plot(xvals,fitres(xvals),'b-.')\n",
    "# ax.plot(xvals,thresholdline(xvals),'b-.',alpha=0.7)\n",
    "# ax.plot([thresholdCt,thresholdCt],[0,2],'k-')\n",
    "\n",
    "# plot hyper fitting line\n",
    "ax.plot(xvals,hyperline(xvals),'k--',alpha=0.7)\n",
    "ax.plot([hyperCt,hyperCt],[0.5,1.1],'k--',alpha=0.7)\n",
    "    \n",
    "plt.tight_layout()\n"
   ]
  },
  {
   "cell_type": "code",
   "execution_count": null,
   "id": "d5c84ec2",
   "metadata": {},
   "outputs": [],
   "source": [
    "#plot the deri peak only\n",
    "\n",
    "col = 1\n",
    "row = 1\n",
    "print(f'Generating curve plots in a {row} x {col} Grid')\n",
    "fig, axes = plt.subplots(row, col, figsize=(col*4, row*3))\n",
    "\n",
    "i=0\n",
    "ax = axes\n",
    "# ax.set_ylim([0,1.3])\n",
    "\n",
    "smoothed_c = smoothed_X[i]\n",
    "t,deri,_ =  deri_X[i]\n",
    "left_ips,peak_prominence,peak_width, *sd= hCtT_X[i]    \n",
    "\n",
    "curvePeakRange = findTimeVal(t,smoothed_c,left_ips,peak_width)\n",
    "xvals = np.linspace(t[0],t[-1],len(deri))\n",
    "\n",
    "\n",
    "# hyper ct\n",
    "hyperline = HyperCt.hyperF(None,hCtT_X[i][-4:-1])\n",
    "hyperCt = hCtT_X[i][-1]\n",
    "\n",
    "# plot plot the derivative peaks\n",
    "ax.plot(xvals,deri*100,'--',alpha=0.8)\n",
    "# ax.plot(xvals,fitres(xvals),'b-.')\n",
    "# ax.plot(xvals,thresholdline(xvals),'b-.',alpha=0.7)\n",
    "# ax.plot([thresholdCt,thresholdCt],[0,2],'k-')\n",
    "plt.tight_layout()"
   ]
  },
  {
   "cell_type": "code",
   "execution_count": null,
   "id": "a99d41d0",
   "metadata": {},
   "outputs": [],
   "source": [
    "\n",
    "deri*100\n",
    "\n"
   ]
  },
  {
   "cell_type": "code",
   "execution_count": null,
   "id": "36e0a04c",
   "metadata": {},
   "outputs": [],
   "source": []
  },
  {
   "cell_type": "code",
   "execution_count": null,
   "id": "d66be5fe",
   "metadata": {},
   "outputs": [],
   "source": [
    "(deri.max() - deri[0]) * 100"
   ]
  },
  {
   "cell_type": "code",
   "execution_count": null,
   "id": "6864399d",
   "metadata": {},
   "outputs": [],
   "source": [
    "# print the hyper curve fit\n",
    "\n",
    "print(json.dumps([list(xvals),list(hyperline(xvals))]))\n",
    "hCtT_X[i][-4:-1]"
   ]
  },
  {
   "cell_type": "code",
   "execution_count": null,
   "id": "f33e4ef7",
   "metadata": {},
   "outputs": [],
   "source": [
    "hyperline"
   ]
  },
  {
   "cell_type": "code",
   "execution_count": null,
   "id": "2def816c",
   "metadata": {},
   "outputs": [],
   "source": [
    "plt.plot(xvals,smoothed_X[0],'.')"
   ]
  },
  {
   "cell_type": "code",
   "execution_count": null,
   "id": "e28e628a",
   "metadata": {},
   "outputs": [],
   "source": [
    "\n",
    "plt.plot(xvals,deri,'--',alpha=0.8)\n"
   ]
  },
  {
   "cell_type": "code",
   "execution_count": null,
   "id": "1aca0b3d",
   "metadata": {},
   "outputs": [],
   "source": [
    "# smooth \n",
    "smoothT = Pipeline([\n",
    "    ('smooth', Smoother(stddev=2, windowlength=11, window='hanning')),\n",
    "  \n",
    "])\n",
    "smoothed_X = smoothT.transform(X)\n",
    "fix,ax =plt.subplots(1,1)\n",
    "ax.plot(np.linspace(0,30,90),smoothed_X[0][1],'.')\n",
    "print(json.dumps([list(np.linspace(0,30,90)),list(smoothed_X[0][1])]))"
   ]
  },
  {
   "cell_type": "code",
   "execution_count": null,
   "id": "e0c0b854",
   "metadata": {},
   "outputs": [],
   "source": [
    "# smooth \n",
    "smoothT = Pipeline([\n",
    "    ('smooth', Smoother(stddev=2, windowlength=11, window='hanning')),\n",
    "  ('normalize', Normalize(mode='mean', normalizeRange=(normStart, normEnd))),\n",
    "])\n",
    "smoothed_X = smoothT.transform(X)\n",
    "fix,ax =plt.subplots(1,1)\n",
    "ax.plot(np.linspace(0,30,90),smoothed_X[0][1],'.')\n",
    "print(json.dumps([list(np.linspace(0,30,90)),list(smoothed_X[0][1])]))"
   ]
  },
  {
   "cell_type": "code",
   "execution_count": null,
   "id": "c66d03c0",
   "metadata": {},
   "outputs": [],
   "source": [
    "# smooth normalize and truncate\n",
    "smoothT = Pipeline([\n",
    "    ('smooth', Smoother(stddev=2, windowlength=11, window='hanning')),\n",
    "  ('normalize', Normalize(mode='mean', normalizeRange=(normStart, normEnd))),\n",
    "  ('truncate', Truncate(cutoffStart=cutoffStart, cutoffEnd=cutoffEnd, n=90)),\n",
    "])\n",
    "smoothed_X = smoothT.transform(X)\n",
    "fix,ax =plt.subplots(1,1)\n",
    "ax.plot(xvals,smoothed_X[0][1],'.')\n",
    "print(json.dumps([list(xvals),list(smoothed_X[0][1])]))"
   ]
  },
  {
   "cell_type": "code",
   "execution_count": null,
   "id": "d93ab584",
   "metadata": {},
   "outputs": [],
   "source": [
    "# the curve after S-G filter\n",
    "smoothT = Pipeline([\n",
    "    ('smooth', Smoother(stddev=2, windowlength=11, window='hanning')),\n",
    "   ('normalize', Normalize(mode='mean', normalizeRange=(normStart, normEnd))),\n",
    "    ('truncate', Truncate(cutoffStart=cutoffStart, cutoffEnd=cutoffEnd, n=90)),\n",
    "    ('Derivitive', Derivitive(window=31, deg=3,deriv=0)),\n",
    "])\n",
    "smoothed_X = smoothT.transform(X)\n",
    "fix,ax =plt.subplots(1,1)\n",
    "ax.plot(xvals,-smoothed_X[0][1],'.')\n",
    "print(json.dumps([list(xvals),list(-smoothed_X[0][1])]))"
   ]
  },
  {
   "cell_type": "code",
   "execution_count": null,
   "id": "e793a879",
   "metadata": {},
   "outputs": [],
   "source": [
    "len(smoothed_X[0][1])"
   ]
  },
  {
   "cell_type": "code",
   "execution_count": null,
   "id": "4be0c64c",
   "metadata": {},
   "outputs": [],
   "source": [
    "# the curve after S-G filter and get derivative\n",
    "smoothT = Pipeline([\n",
    "    ('smooth', Smoother(stddev=2, windowlength=11, window='hanning')),\n",
    "   ('normalize', Normalize(mode='mean', normalizeRange=(normStart, normEnd))),\n",
    "    ('truncate', Truncate(cutoffStart=cutoffStart, cutoffEnd=cutoffEnd, n=90)),\n",
    "    ('Derivitive', Derivitive(window=31, deg=3,deriv=1)),\n",
    "])\n",
    "smoothed_X = smoothT.transform(X)\n",
    "fix,ax =plt.subplots(1,1)\n",
    "ax.plot(xvals,-smoothed_X[0][1],'.')\n",
    "print(json.dumps([list(xvals),list(-smoothed_X[0][1])]))"
   ]
  },
  {
   "cell_type": "code",
   "execution_count": null,
   "id": "79ef0c31",
   "metadata": {},
   "outputs": [],
   "source": [
    "# the curve after S-G filter and get derivative negate\n",
    "smoothT = Pipeline([\n",
    "    ('smooth', Smoother(stddev=2, windowlength=11, window='hanning')),\n",
    "   ('normalize', Normalize(mode='mean', normalizeRange=(normStart, normEnd))),\n",
    "    ('truncate', Truncate(cutoffStart=cutoffStart, cutoffEnd=cutoffEnd, n=90)),\n",
    "    ('Derivitive', Derivitive(window=31, deg=3,deriv=1)),\n",
    "])\n",
    "smoothed_X = smoothT.transform(X)\n",
    "fix,ax =plt.subplots(1,1)\n",
    "ax.plot(xvals,smoothed_X[0][1],'.')\n",
    "print(json.dumps([list(xvals),list(smoothed_X[0][1])]))"
   ]
  },
  {
   "cell_type": "code",
   "execution_count": null,
   "id": "6619a1aa",
   "metadata": {},
   "outputs": [],
   "source": [
    "#different window \n",
    "window=25\n",
    "# the curve after S-G filter and get derivative negate\n",
    "smoothT = Pipeline([\n",
    "    ('smooth', Smoother(stddev=2, windowlength=11, window='hanning')),\n",
    "   ('normalize', Normalize(mode='mean', normalizeRange=(normStart, normEnd))),\n",
    "    ('truncate', Truncate(cutoffStart=cutoffStart, cutoffEnd=cutoffEnd, n=90)),\n",
    "    ('Derivitive', Derivitive(window=window, deg=3,deriv=0)),\n",
    "])\n",
    "smoothed_X = smoothT.transform(X)\n",
    "fix,ax =plt.subplots(1,1)\n",
    "ax.plot(xvals,smoothed_X[0][1],'.')\n",
    "print('左图:', json.dumps([list(xvals),list(smoothed_X[0][1])]))\n",
    "\n",
    "# the curve after S-G filter and get derivative negate\n",
    "smoothT = Pipeline([\n",
    "    ('smooth', Smoother(stddev=2, windowlength=11, window='hanning')),\n",
    "   ('normalize', Normalize(mode='mean', normalizeRange=(normStart, normEnd))),\n",
    "    ('truncate', Truncate(cutoffStart=cutoffStart, cutoffEnd=cutoffEnd, n=90)),\n",
    "    ('Derivitive', Derivitive(window=window, deg=3,deriv=1)),\n",
    "])\n",
    "smoothed_X = smoothT.transform(X)\n",
    "fix,ax =plt.subplots(1,1)\n",
    "ax.plot(xvals,smoothed_X[0][1],'.')\n",
    "print('右图:',json.dumps([list(xvals),list(smoothed_X[0][1])]))"
   ]
  },
  {
   "cell_type": "code",
   "execution_count": null,
   "id": "9f889cc1",
   "metadata": {},
   "outputs": [],
   "source": [
    "v = np.linspace(-600,0,2)\n",
    "f = - v/10000000 * 1e6\n",
    "r = - (v + 100)/10000000 * 1e6\n",
    "c = f-r\n",
    "plt.plot(v,f,v,r,v,c)"
   ]
  },
  {
   "cell_type": "code",
   "execution_count": null,
   "id": "34d45a8c",
   "metadata": {},
   "outputs": [],
   "source": [
    "# the curve after S-G filter and get derivative\n",
    "smoothT = Pipeline([\n",
    "    ('smooth', Smoother(stddev=2, windowlength=11, window='hanning')),\n",
    "   ('normalize', Normalize(mode='mean', normalizeRange=(normStart, normEnd))),\n",
    "    ('truncate', Truncate(cutoffStart=cutoffStart, cutoffEnd=cutoffEnd, n=90)),\n",
    "    ('Derivitive', Derivitive(window=31, deg=3,deriv=1)),\n",
    "])\n",
    "smoothed_X = smoothT.transform(X)\n",
    "fix,ax =plt.subplots(1,1)\n",
    "ax.plot(xvals,smoothed_X[0][1],'.')\n",
    "print(json.dumps([list(xvals),list(-smoothed_X[0][1])]))"
   ]
  },
  {
   "cell_type": "code",
   "execution_count": null,
   "id": "699674a8",
   "metadata": {},
   "outputs": [],
   "source": [
    "len(smoothed_X[0])"
   ]
  },
  {
   "cell_type": "code",
   "execution_count": null,
   "id": "b4c21581",
   "metadata": {},
   "outputs": [],
   "source": [
    "\n",
    "X = smoothed_X[0]\n",
    "t,gradient,pc = X\n",
    "gradient = gradient \n",
    "heightlimit = np.quantile(np.absolute(gradient[0:-1] - gradient[1:]), 0.9)\n",
    "peaks,props = signal.find_peaks(gradient,prominence=heightlimit,width= len(gradient) * 0.05, rel_height=0.5,height=heightlimit)\n",
    "\n",
    "t=[5,30]\n",
    "\n",
    "peak_pos,left_ips,peak_prominence,peak_width = (t[-1],t[-1],0,0)\n",
    "sdAtRightIps,sdAt3min,sdAt5min,sdAt10min,sdAt15min,sdAtEnd = (0,0,0,0,0,0)"
   ]
  },
  {
   "cell_type": "code",
   "execution_count": null,
   "id": "7edf2728",
   "metadata": {},
   "outputs": [],
   "source": [
    "if len(peaks) != 0:                \n",
    "    tspan = t[-1]-t[0] # 25 分钟\n",
    "    \n",
    "    # 每个点的时间间隔， 25/90\n",
    "    normalizer =  tspan / len(gradient) \n",
    "    \n",
    "    # 找到最大prominence的峰的在signal.finde_peaks的结果里的index，这里是0    \n",
    "    maxpeak_index = props['prominences'].argmax() \n",
    "    \n",
    "    # 最大prominence的峰的prominence，0.013573826379022486\n",
    "    peak_prominence = props['prominences'][maxpeak_index]  \n",
    "    \n",
    "    # 左半峰宽交叉点的时间： 10.5691635309分钟\n",
    "    left_ips = props['left_ips'][maxpeak_index] * normalizer  + t[0] \n",
    "\n",
    "    pcMaxIdx = len(pc) - 1 # 最后一个点的index， 89\n",
    "    \n",
    "    startPosition = int(props['left_ips'][maxpeak_index]) # 左半分峰宽交叉点的index，20\n",
    "    \n",
    "    sStart = pc[startPosition] # 左半峰宽交叉点的纵坐标： 0.92553695440 \n",
    "\n",
    "    # 左半峰宽交叉点往后5分钟的sd，0.224235150457， 用min函数防止越界\n",
    "    sdAt5min = sStart - pc[min(startPosition + int(5 / normalizer), pcMaxIdx)] \n",
    "    \n",
    "    "
   ]
  },
  {
   "cell_type": "code",
   "execution_count": null,
   "id": "5e4dba97",
   "metadata": {},
   "outputs": [],
   "source": [
    "#手动计算left_ips\n",
    "\n",
    "# 找到最大prominence的峰的位置， 这里是35\n",
    "peak_position = peaks[maxpeak_index]\n",
    "\n",
    "# 峰的高度， 0.01528766747\n",
    "peak_height = gradient[peak_position] \n",
    "\n",
    "# 用来计算半峰宽的高度： 0.00850075428579954 （峰高度 -  prominence * 0.5）\n",
    "evaluation_point = peak_height - peak_prominence * 0.5\n",
    "\n",
    "#初始化\n",
    "manual_left_ips_index = peak_position\n",
    "\n",
    "#从峰的位置，向左一个一个的找\n",
    "for i in gradient[0:peak_position:][::-1]:\n",
    "    # 如果找到了一个比峰高度小的点，停止循环\n",
    "    if i < evaluation_point:        \n",
    "        break\n",
    "    # 否则，继续向左找，更新左半峰宽交叉点的index\n",
    "    manual_left_ips_index = manual_left_ips_index - 1\n",
    "\n",
    "#计算左半峰宽交叉点的时间： 10.83333333 分钟\n",
    "manual_left_ips = manual_left_ips_index* normalizer  + t[0] "
   ]
  },
  {
   "cell_type": "code",
   "execution_count": null,
   "id": "bbeebc2f",
   "metadata": {},
   "outputs": [],
   "source": [
    "from scipy.optimize import least_squares\n",
    "\n",
    "def findTimeVal(t,val,t0,dt):\n",
    "    \"\"\"\n",
    "    t:   [.............]\n",
    "    val: [.............]\n",
    "    t0:       |      ; if t0 is less than 0, then start from 0\n",
    "    dt:       |---|  ; must > 0\n",
    "    return:  [.....]\n",
    "    find the fragment of time series data,\n",
    "    based on starting time t0 and time length to extract\n",
    "    assuming t is an evenly spaced time series\n",
    "    \"\"\"\n",
    "    t0idx = int((t0 - t[0]) / (t[-1]-t[0]) * len(val))\n",
    "    t1idx = int((t0 +dt - t[0]) / (t[-1]-t[0]) * len(val))\n",
    "    return val[max(0,t0idx):t1idx]\n",
    "\n",
    "def hyper(p,x,y):\n",
    "    \"用来拟合的双曲线函数\"\n",
    "    return p[0]/(x+p[1]) +p[2] -y\n",
    "\n",
    "t=[5,30]\n",
    "# 左半峰宽交叉点的时间： 10.5691635309分钟 \n",
    "left_ips = 10.5691635309\n",
    "# 找到5-10.569分钟之间的pc的值来进行双曲线拟合\n",
    "tofit = findTimeVal(t,pc,t[0],left_ips - t[0])\n",
    "#这些数据对应的时间：\n",
    "times = np.linspace(t[0],left_ips,len(tofit))\n",
    "\n",
    "# 双曲线拟合\n",
    "fitres = least_squares(hyper,x0=[5,5,0.5],\n",
    "                args=(times,tofit))\n",
    "#拟合的结果: [495.39542968, 166.48141007,  -1.84842431]; 对应了p[0],p[1],p[2]\n",
    "fitpara = fitres.x\n",
    "\n",
    "# 拟合的双曲线函数下移的%\n",
    "offset = 0.05\n",
    "# 下移的纵坐标值是拟合的区间最后一个点的纵坐标 * offset\n",
    "# 相当于将p[2]下移了这个值\n",
    "thresholdpara = fitpara - np.array([0,0,(tofit[-1]) * offset])\n",
    "\n",
    "\n",
    "# 从左半峰宽交叉点的时间，向右找出了所有要找的点的纵坐标\n",
    "# [0.92553695, 0.91645038, 0.90831233,，。。。 0.56696346, 0.56785669】\n",
    "# 共70个点\n",
    "tosearch = findTimeVal(t,pc,left_ips,t[-1])\n",
    "# 要找的点的对应的时间\n",
    "tosearchT = np.linspace(left_ips,t[-1],len(tosearch))\n",
    "\n",
    "# 初始化thresholdCt为左半峰宽交叉点的时间\n",
    "thresholdCt = left_ips\n",
    "# 向右一个一个的找。在开始的时候，双曲线函数的纵坐标小于数据点的纵坐标，\n",
    "for t,y in zip(tosearchT,tosearch):\n",
    "    #如果delta大于0了，下移的后的双曲线函数的纵坐标大于数据点的纵坐标，停止循环\n",
    "    delta = hyper(thresholdpara,t,y)\n",
    "    if delta >0:\n",
    "        break\n",
    "    thresholdCt = t\n",
    "# 最终的结果：thresholdCt = 11.97719515909565\n",
    "\n"
   ]
  },
  {
   "cell_type": "code",
   "execution_count": null,
   "id": "2fe3936d",
   "metadata": {},
   "outputs": [],
   "source": []
  },
  {
   "cell_type": "code",
   "execution_count": null,
   "id": "5e2d29e7",
   "metadata": {},
   "outputs": [],
   "source": [
    "t"
   ]
  },
  {
   "cell_type": "code",
   "execution_count": null,
   "id": "0fee6569",
   "metadata": {},
   "outputs": [],
   "source": [
    "times = np.arange(t[0],left_ips, (t[-1]-t[0]) / len(pc) )"
   ]
  },
  {
   "cell_type": "code",
   "execution_count": null,
   "id": "fa831518",
   "metadata": {},
   "outputs": [],
   "source": [
    "len(tofit)"
   ]
  },
  {
   "cell_type": "code",
   "execution_count": null,
   "id": "ebf51ced",
   "metadata": {},
   "outputs": [],
   "source": [
    "10.83333333+0.277"
   ]
  },
  {
   "cell_type": "code",
   "execution_count": null,
   "id": "89814b62",
   "metadata": {},
   "outputs": [],
   "source": [
    "min(gradient)"
   ]
  },
  {
   "cell_type": "code",
   "execution_count": null,
   "id": "eb9c0ca9",
   "metadata": {},
   "outputs": [],
   "source": [
    "len(gradient)"
   ]
  },
  {
   "cell_type": "code",
   "execution_count": null,
   "id": "cafc8871",
   "metadata": {},
   "outputs": [],
   "source": [
    "pc"
   ]
  },
  {
   "cell_type": "code",
   "execution_count": null,
   "id": "b78f5f6d",
   "metadata": {},
   "outputs": [],
   "source": [
    "peaks"
   ]
  },
  {
   "cell_type": "code",
   "execution_count": null,
   "id": "3946be94",
   "metadata": {},
   "outputs": [],
   "source": [
    "gradient[35]"
   ]
  },
  {
   "cell_type": "code",
   "execution_count": null,
   "id": "5491fb38",
   "metadata": {},
   "outputs": [],
   "source": []
  }
 ],
 "metadata": {
  "kernelspec": {
   "display_name": "Python 3",
   "language": "python",
   "name": "python3"
  },
  "language_info": {
   "codemirror_mode": {
    "name": "ipython",
    "version": 3
   },
   "file_extension": ".py",
   "mimetype": "text/x-python",
   "name": "python",
   "nbconvert_exporter": "python",
   "pygments_lexer": "ipython3",
   "version": "3.7.9"
  }
 },
 "nbformat": 4,
 "nbformat_minor": 5
}
